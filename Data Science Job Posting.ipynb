{
 "cells": [
  {
   "cell_type": "markdown",
   "id": "e78d9d07",
   "metadata": {},
   "source": [
    "# Importing Libraries"
   ]
  },
  {
   "cell_type": "code",
   "execution_count": 1,
   "id": "120452ec",
   "metadata": {},
   "outputs": [],
   "source": [
    "import pandas as pd\n",
    "import numpy as np\n",
    "import warnings\n",
    "warnings.filterwarnings(\"ignore\")"
   ]
  },
  {
   "cell_type": "markdown",
   "id": "91c6231c",
   "metadata": {},
   "source": [
    "# Load the dataset"
   ]
  },
  {
   "cell_type": "code",
   "execution_count": 2,
   "id": "93e9d9c6",
   "metadata": {},
   "outputs": [
    {
     "data": {
      "text/html": [
       "<div>\n",
       "<style scoped>\n",
       "    .dataframe tbody tr th:only-of-type {\n",
       "        vertical-align: middle;\n",
       "    }\n",
       "\n",
       "    .dataframe tbody tr th {\n",
       "        vertical-align: top;\n",
       "    }\n",
       "\n",
       "    .dataframe thead th {\n",
       "        text-align: right;\n",
       "    }\n",
       "</style>\n",
       "<table border=\"1\" class=\"dataframe\">\n",
       "  <thead>\n",
       "    <tr style=\"text-align: right;\">\n",
       "      <th></th>\n",
       "      <th>index</th>\n",
       "      <th>Job Title</th>\n",
       "      <th>Salalry_min</th>\n",
       "      <th>Salalry_max</th>\n",
       "      <th>Avg_salary</th>\n",
       "      <th>Rating</th>\n",
       "      <th>Company Name</th>\n",
       "      <th>Location</th>\n",
       "      <th>State</th>\n",
       "      <th>Size</th>\n",
       "      <th>Founded</th>\n",
       "      <th>Company_age</th>\n",
       "      <th>Type of ownership</th>\n",
       "      <th>Industry</th>\n",
       "      <th>Sector</th>\n",
       "      <th>Revenue</th>\n",
       "    </tr>\n",
       "  </thead>\n",
       "  <tbody>\n",
       "    <tr>\n",
       "      <th>0</th>\n",
       "      <td>0</td>\n",
       "      <td>Sr Data Scientist</td>\n",
       "      <td>137</td>\n",
       "      <td>171</td>\n",
       "      <td>154.0</td>\n",
       "      <td>3.1</td>\n",
       "      <td>Healthfirst</td>\n",
       "      <td>New York</td>\n",
       "      <td>NY</td>\n",
       "      <td>1001 - 5000 employees</td>\n",
       "      <td>1993</td>\n",
       "      <td>30</td>\n",
       "      <td>Nonprofit Organization</td>\n",
       "      <td>Insurance Carriers</td>\n",
       "      <td>Insurance</td>\n",
       "      <td>Unknown / Non-Applicable</td>\n",
       "    </tr>\n",
       "    <tr>\n",
       "      <th>1</th>\n",
       "      <td>1</td>\n",
       "      <td>Data Scientist</td>\n",
       "      <td>137</td>\n",
       "      <td>171</td>\n",
       "      <td>154.0</td>\n",
       "      <td>4.2</td>\n",
       "      <td>ManTech</td>\n",
       "      <td>Chantilly</td>\n",
       "      <td>VA</td>\n",
       "      <td>5001 - 10000 employees</td>\n",
       "      <td>1968</td>\n",
       "      <td>55</td>\n",
       "      <td>Company - Public</td>\n",
       "      <td>Research &amp; Development</td>\n",
       "      <td>Business Services</td>\n",
       "      <td>$1 to $2 billion (USD)</td>\n",
       "    </tr>\n",
       "    <tr>\n",
       "      <th>2</th>\n",
       "      <td>2</td>\n",
       "      <td>Data Scientist</td>\n",
       "      <td>137</td>\n",
       "      <td>171</td>\n",
       "      <td>154.0</td>\n",
       "      <td>3.8</td>\n",
       "      <td>Analysis Group</td>\n",
       "      <td>Boston</td>\n",
       "      <td>MA</td>\n",
       "      <td>1001 - 5000 employees</td>\n",
       "      <td>1981</td>\n",
       "      <td>42</td>\n",
       "      <td>Private Practice / Firm</td>\n",
       "      <td>Consulting</td>\n",
       "      <td>Business Services</td>\n",
       "      <td>$100 to $500 million (USD)</td>\n",
       "    </tr>\n",
       "    <tr>\n",
       "      <th>3</th>\n",
       "      <td>3</td>\n",
       "      <td>Data Scientist</td>\n",
       "      <td>137</td>\n",
       "      <td>171</td>\n",
       "      <td>154.0</td>\n",
       "      <td>3.5</td>\n",
       "      <td>INFICON</td>\n",
       "      <td>Newton</td>\n",
       "      <td>MA</td>\n",
       "      <td>501 - 1000 employees</td>\n",
       "      <td>2000</td>\n",
       "      <td>23</td>\n",
       "      <td>Company - Public</td>\n",
       "      <td>Electrical &amp; Electronic Manufacturing</td>\n",
       "      <td>Manufacturing</td>\n",
       "      <td>$100 to $500 million (USD)</td>\n",
       "    </tr>\n",
       "    <tr>\n",
       "      <th>4</th>\n",
       "      <td>4</td>\n",
       "      <td>Data Scientist</td>\n",
       "      <td>137</td>\n",
       "      <td>171</td>\n",
       "      <td>154.0</td>\n",
       "      <td>2.9</td>\n",
       "      <td>Affinity Solutions</td>\n",
       "      <td>New York</td>\n",
       "      <td>NY</td>\n",
       "      <td>51 - 200 employees</td>\n",
       "      <td>1998</td>\n",
       "      <td>25</td>\n",
       "      <td>Company - Private</td>\n",
       "      <td>Advertising &amp; Marketing</td>\n",
       "      <td>Business Services</td>\n",
       "      <td>Unknown / Non-Applicable</td>\n",
       "    </tr>\n",
       "    <tr>\n",
       "      <th>...</th>\n",
       "      <td>...</td>\n",
       "      <td>...</td>\n",
       "      <td>...</td>\n",
       "      <td>...</td>\n",
       "      <td>...</td>\n",
       "      <td>...</td>\n",
       "      <td>...</td>\n",
       "      <td>...</td>\n",
       "      <td>...</td>\n",
       "      <td>...</td>\n",
       "      <td>...</td>\n",
       "      <td>...</td>\n",
       "      <td>...</td>\n",
       "      <td>...</td>\n",
       "      <td>...</td>\n",
       "      <td>...</td>\n",
       "    </tr>\n",
       "    <tr>\n",
       "      <th>549</th>\n",
       "      <td>663</td>\n",
       "      <td>Data Scientist</td>\n",
       "      <td>105</td>\n",
       "      <td>167</td>\n",
       "      <td>136.0</td>\n",
       "      <td>4.1</td>\n",
       "      <td>A-Line Staffing Solutions</td>\n",
       "      <td>Durham</td>\n",
       "      <td>NC</td>\n",
       "      <td>501 - 1000 employees</td>\n",
       "      <td>2004</td>\n",
       "      <td>19</td>\n",
       "      <td>Company - Private</td>\n",
       "      <td>Staffing &amp; Outsourcing</td>\n",
       "      <td>Business Services</td>\n",
       "      <td>Unknown / Non-Applicable</td>\n",
       "    </tr>\n",
       "    <tr>\n",
       "      <th>550</th>\n",
       "      <td>665</td>\n",
       "      <td>Data Scientist</td>\n",
       "      <td>105</td>\n",
       "      <td>167</td>\n",
       "      <td>136.0</td>\n",
       "      <td>3.8</td>\n",
       "      <td>Criterion Systems, Inc.</td>\n",
       "      <td>Vienna</td>\n",
       "      <td>VA</td>\n",
       "      <td>201 - 500 employees</td>\n",
       "      <td>2005</td>\n",
       "      <td>18</td>\n",
       "      <td>Company - Private</td>\n",
       "      <td>IT Services</td>\n",
       "      <td>Information Technology</td>\n",
       "      <td>$50 to $100 million (USD)</td>\n",
       "    </tr>\n",
       "    <tr>\n",
       "      <th>551</th>\n",
       "      <td>666</td>\n",
       "      <td>Data Scientist</td>\n",
       "      <td>105</td>\n",
       "      <td>167</td>\n",
       "      <td>136.0</td>\n",
       "      <td>4.0</td>\n",
       "      <td>Foundation Medicine</td>\n",
       "      <td>Boston</td>\n",
       "      <td>MA</td>\n",
       "      <td>1001 - 5000 employees</td>\n",
       "      <td>2010</td>\n",
       "      <td>13</td>\n",
       "      <td>Company - Public</td>\n",
       "      <td>Biotech &amp; Pharmaceuticals</td>\n",
       "      <td>Biotech &amp; Pharmaceuticals</td>\n",
       "      <td>$100 to $500 million (USD)</td>\n",
       "    </tr>\n",
       "    <tr>\n",
       "      <th>552</th>\n",
       "      <td>667</td>\n",
       "      <td>Data Scientist</td>\n",
       "      <td>105</td>\n",
       "      <td>167</td>\n",
       "      <td>136.0</td>\n",
       "      <td>3.6</td>\n",
       "      <td>TRANZACT</td>\n",
       "      <td>Fort Lee</td>\n",
       "      <td>NJ</td>\n",
       "      <td>1001 - 5000 employees</td>\n",
       "      <td>1989</td>\n",
       "      <td>34</td>\n",
       "      <td>Company - Private</td>\n",
       "      <td>Advertising &amp; Marketing</td>\n",
       "      <td>Business Services</td>\n",
       "      <td>Unknown / Non-Applicable</td>\n",
       "    </tr>\n",
       "    <tr>\n",
       "      <th>553</th>\n",
       "      <td>671</td>\n",
       "      <td>Data Scientist</td>\n",
       "      <td>105</td>\n",
       "      <td>167</td>\n",
       "      <td>136.0</td>\n",
       "      <td>2.7</td>\n",
       "      <td>1-800-Flowers</td>\n",
       "      <td>New York</td>\n",
       "      <td>NY</td>\n",
       "      <td>1001 - 5000 employees</td>\n",
       "      <td>1976</td>\n",
       "      <td>47</td>\n",
       "      <td>Company - Public</td>\n",
       "      <td>Wholesale</td>\n",
       "      <td>Business Services</td>\n",
       "      <td>$1 to $2 billion (USD)</td>\n",
       "    </tr>\n",
       "  </tbody>\n",
       "</table>\n",
       "<p>554 rows × 16 columns</p>\n",
       "</div>"
      ],
      "text/plain": [
       "     index          Job Title  Salalry_min Salalry_max  Avg_salary  Rating  \\\n",
       "0        0  Sr Data Scientist          137         171       154.0     3.1   \n",
       "1        1     Data Scientist          137         171       154.0     4.2   \n",
       "2        2     Data Scientist          137         171       154.0     3.8   \n",
       "3        3     Data Scientist          137         171       154.0     3.5   \n",
       "4        4     Data Scientist          137         171       154.0     2.9   \n",
       "..     ...                ...          ...         ...         ...     ...   \n",
       "549    663     Data Scientist          105         167       136.0     4.1   \n",
       "550    665     Data Scientist          105         167       136.0     3.8   \n",
       "551    666     Data Scientist          105         167       136.0     4.0   \n",
       "552    667     Data Scientist          105         167       136.0     3.6   \n",
       "553    671     Data Scientist          105         167       136.0     2.7   \n",
       "\n",
       "                  Company Name   Location State                    Size  \\\n",
       "0                  Healthfirst   New York    NY   1001 - 5000 employees   \n",
       "1                      ManTech  Chantilly    VA  5001 - 10000 employees   \n",
       "2               Analysis Group     Boston    MA   1001 - 5000 employees   \n",
       "3                      INFICON     Newton    MA    501 - 1000 employees   \n",
       "4           Affinity Solutions   New York    NY      51 - 200 employees   \n",
       "..                         ...        ...   ...                     ...   \n",
       "549  A-Line Staffing Solutions     Durham    NC    501 - 1000 employees   \n",
       "550    Criterion Systems, Inc.     Vienna    VA     201 - 500 employees   \n",
       "551        Foundation Medicine     Boston    MA   1001 - 5000 employees   \n",
       "552                   TRANZACT   Fort Lee    NJ   1001 - 5000 employees   \n",
       "553              1-800-Flowers   New York    NY   1001 - 5000 employees   \n",
       "\n",
       "     Founded  Company_age        Type of ownership  \\\n",
       "0       1993           30   Nonprofit Organization   \n",
       "1       1968           55         Company - Public   \n",
       "2       1981           42  Private Practice / Firm   \n",
       "3       2000           23         Company - Public   \n",
       "4       1998           25        Company - Private   \n",
       "..       ...          ...                      ...   \n",
       "549     2004           19        Company - Private   \n",
       "550     2005           18        Company - Private   \n",
       "551     2010           13         Company - Public   \n",
       "552     1989           34        Company - Private   \n",
       "553     1976           47         Company - Public   \n",
       "\n",
       "                                  Industry                     Sector  \\\n",
       "0                       Insurance Carriers                  Insurance   \n",
       "1                   Research & Development          Business Services   \n",
       "2                               Consulting          Business Services   \n",
       "3    Electrical & Electronic Manufacturing              Manufacturing   \n",
       "4                  Advertising & Marketing          Business Services   \n",
       "..                                     ...                        ...   \n",
       "549                 Staffing & Outsourcing          Business Services   \n",
       "550                            IT Services     Information Technology   \n",
       "551              Biotech & Pharmaceuticals  Biotech & Pharmaceuticals   \n",
       "552                Advertising & Marketing          Business Services   \n",
       "553                              Wholesale          Business Services   \n",
       "\n",
       "                        Revenue  \n",
       "0      Unknown / Non-Applicable  \n",
       "1        $1 to $2 billion (USD)  \n",
       "2    $100 to $500 million (USD)  \n",
       "3    $100 to $500 million (USD)  \n",
       "4      Unknown / Non-Applicable  \n",
       "..                          ...  \n",
       "549    Unknown / Non-Applicable  \n",
       "550   $50 to $100 million (USD)  \n",
       "551  $100 to $500 million (USD)  \n",
       "552    Unknown / Non-Applicable  \n",
       "553      $1 to $2 billion (USD)  \n",
       "\n",
       "[554 rows x 16 columns]"
      ]
     },
     "execution_count": 2,
     "metadata": {},
     "output_type": "execute_result"
    }
   ],
   "source": [
    "df = pd.read_excel(\"DS_jobs.xlsx\")\n",
    "df"
   ]
  },
  {
   "cell_type": "markdown",
   "id": "18fe40ee",
   "metadata": {},
   "source": [
    "# Checking the data shape"
   ]
  },
  {
   "cell_type": "code",
   "execution_count": 3,
   "id": "61ccca0e",
   "metadata": {},
   "outputs": [
    {
     "data": {
      "text/plain": [
       "(554, 16)"
      ]
     },
     "execution_count": 3,
     "metadata": {},
     "output_type": "execute_result"
    }
   ],
   "source": [
    "df.shape"
   ]
  },
  {
   "cell_type": "markdown",
   "id": "89917ec9",
   "metadata": {},
   "source": [
    "# Checking the data information"
   ]
  },
  {
   "cell_type": "code",
   "execution_count": 4,
   "id": "ae18ccc5",
   "metadata": {},
   "outputs": [
    {
     "name": "stdout",
     "output_type": "stream",
     "text": [
      "<class 'pandas.core.frame.DataFrame'>\n",
      "RangeIndex: 554 entries, 0 to 553\n",
      "Data columns (total 16 columns):\n",
      " #   Column             Non-Null Count  Dtype  \n",
      "---  ------             --------------  -----  \n",
      " 0   index              554 non-null    int64  \n",
      " 1   Job Title          554 non-null    object \n",
      " 2   Salalry_min        554 non-null    int64  \n",
      " 3   Salalry_max        554 non-null    object \n",
      " 4   Avg_salary         554 non-null    float64\n",
      " 5   Rating             554 non-null    float64\n",
      " 6   Company Name       554 non-null    object \n",
      " 7   Location           554 non-null    object \n",
      " 8   State              544 non-null    object \n",
      " 9   Size               554 non-null    object \n",
      " 10  Founded            554 non-null    int64  \n",
      " 11  Company_age        554 non-null    int64  \n",
      " 12  Type of ownership  554 non-null    object \n",
      " 13  Industry           554 non-null    object \n",
      " 14  Sector             554 non-null    object \n",
      " 15  Revenue            554 non-null    object \n",
      "dtypes: float64(2), int64(4), object(10)\n",
      "memory usage: 69.4+ KB\n"
     ]
    }
   ],
   "source": [
    "df.info()"
   ]
  },
  {
   "cell_type": "code",
   "execution_count": 5,
   "id": "104558c9",
   "metadata": {},
   "outputs": [
    {
     "data": {
      "text/plain": [
       "index                  int64\n",
       "Job Title             object\n",
       "Salalry_min            int64\n",
       "Salalry_max           object\n",
       "Avg_salary           float64\n",
       "Rating               float64\n",
       "Company Name          object\n",
       "Location              object\n",
       "State                 object\n",
       "Size                  object\n",
       "Founded                int64\n",
       "Company_age            int64\n",
       "Type of ownership     object\n",
       "Industry              object\n",
       "Sector                object\n",
       "Revenue               object\n",
       "dtype: object"
      ]
     },
     "execution_count": 5,
     "metadata": {},
     "output_type": "execute_result"
    }
   ],
   "source": [
    "df.dtypes"
   ]
  },
  {
   "cell_type": "markdown",
   "id": "40a9ee8e",
   "metadata": {},
   "source": [
    "Let's check the statistics in data"
   ]
  },
  {
   "cell_type": "code",
   "execution_count": 6,
   "id": "0b99a2c9",
   "metadata": {},
   "outputs": [
    {
     "data": {
      "text/html": [
       "<div>\n",
       "<style scoped>\n",
       "    .dataframe tbody tr th:only-of-type {\n",
       "        vertical-align: middle;\n",
       "    }\n",
       "\n",
       "    .dataframe tbody tr th {\n",
       "        vertical-align: top;\n",
       "    }\n",
       "\n",
       "    .dataframe thead th {\n",
       "        text-align: right;\n",
       "    }\n",
       "</style>\n",
       "<table border=\"1\" class=\"dataframe\">\n",
       "  <thead>\n",
       "    <tr style=\"text-align: right;\">\n",
       "      <th></th>\n",
       "      <th>index</th>\n",
       "      <th>Salalry_min</th>\n",
       "      <th>Avg_salary</th>\n",
       "      <th>Rating</th>\n",
       "      <th>Founded</th>\n",
       "      <th>Company_age</th>\n",
       "    </tr>\n",
       "  </thead>\n",
       "  <tbody>\n",
       "    <tr>\n",
       "      <th>count</th>\n",
       "      <td>554.000000</td>\n",
       "      <td>554.000000</td>\n",
       "      <td>554.000000</td>\n",
       "      <td>554.000000</td>\n",
       "      <td>554.000000</td>\n",
       "      <td>554.000000</td>\n",
       "    </tr>\n",
       "    <tr>\n",
       "      <th>mean</th>\n",
       "      <td>312.705776</td>\n",
       "      <td>97.384477</td>\n",
       "      <td>120.277978</td>\n",
       "      <td>3.864982</td>\n",
       "      <td>1984.104693</td>\n",
       "      <td>38.895307</td>\n",
       "    </tr>\n",
       "    <tr>\n",
       "      <th>std</th>\n",
       "      <td>195.804692</td>\n",
       "      <td>32.049609</td>\n",
       "      <td>36.757789</td>\n",
       "      <td>0.637072</td>\n",
       "      <td>40.653609</td>\n",
       "      <td>40.653609</td>\n",
       "    </tr>\n",
       "    <tr>\n",
       "      <th>min</th>\n",
       "      <td>0.000000</td>\n",
       "      <td>31.000000</td>\n",
       "      <td>43.500000</td>\n",
       "      <td>-1.000000</td>\n",
       "      <td>1781.000000</td>\n",
       "      <td>4.000000</td>\n",
       "    </tr>\n",
       "    <tr>\n",
       "      <th>25%</th>\n",
       "      <td>140.250000</td>\n",
       "      <td>79.000000</td>\n",
       "      <td>103.000000</td>\n",
       "      <td>3.500000</td>\n",
       "      <td>1974.000000</td>\n",
       "      <td>13.000000</td>\n",
       "    </tr>\n",
       "    <tr>\n",
       "      <th>50%</th>\n",
       "      <td>297.500000</td>\n",
       "      <td>90.000000</td>\n",
       "      <td>114.000000</td>\n",
       "      <td>3.800000</td>\n",
       "      <td>1999.000000</td>\n",
       "      <td>24.000000</td>\n",
       "    </tr>\n",
       "    <tr>\n",
       "      <th>75%</th>\n",
       "      <td>482.750000</td>\n",
       "      <td>112.000000</td>\n",
       "      <td>136.000000</td>\n",
       "      <td>4.300000</td>\n",
       "      <td>2010.000000</td>\n",
       "      <td>49.000000</td>\n",
       "    </tr>\n",
       "    <tr>\n",
       "      <th>max</th>\n",
       "      <td>671.000000</td>\n",
       "      <td>212.000000</td>\n",
       "      <td>271.500000</td>\n",
       "      <td>5.000000</td>\n",
       "      <td>2019.000000</td>\n",
       "      <td>242.000000</td>\n",
       "    </tr>\n",
       "  </tbody>\n",
       "</table>\n",
       "</div>"
      ],
      "text/plain": [
       "            index  Salalry_min  Avg_salary      Rating      Founded  \\\n",
       "count  554.000000   554.000000  554.000000  554.000000   554.000000   \n",
       "mean   312.705776    97.384477  120.277978    3.864982  1984.104693   \n",
       "std    195.804692    32.049609   36.757789    0.637072    40.653609   \n",
       "min      0.000000    31.000000   43.500000   -1.000000  1781.000000   \n",
       "25%    140.250000    79.000000  103.000000    3.500000  1974.000000   \n",
       "50%    297.500000    90.000000  114.000000    3.800000  1999.000000   \n",
       "75%    482.750000   112.000000  136.000000    4.300000  2010.000000   \n",
       "max    671.000000   212.000000  271.500000    5.000000  2019.000000   \n",
       "\n",
       "       Company_age  \n",
       "count   554.000000  \n",
       "mean     38.895307  \n",
       "std      40.653609  \n",
       "min       4.000000  \n",
       "25%      13.000000  \n",
       "50%      24.000000  \n",
       "75%      49.000000  \n",
       "max     242.000000  "
      ]
     },
     "execution_count": 6,
     "metadata": {},
     "output_type": "execute_result"
    }
   ],
   "source": [
    "df.describe()"
   ]
  },
  {
   "cell_type": "markdown",
   "id": "1d448f40",
   "metadata": {},
   "source": [
    "To check which job title is more in the dataset"
   ]
  },
  {
   "cell_type": "code",
   "execution_count": 7,
   "id": "f9f6a3b8",
   "metadata": {},
   "outputs": [
    {
     "data": {
      "text/plain": [
       "Data Scientist               238\n",
       "Data Engineer                 25\n",
       "Senior Data Scientist         15\n",
       "Machine Learning Engineer     14\n",
       "Data Analyst                  12\n",
       "Name: Job Title, dtype: int64"
      ]
     },
     "execution_count": 7,
     "metadata": {},
     "output_type": "execute_result"
    }
   ],
   "source": [
    "df['Job Title'].value_counts().head()"
   ]
  },
  {
   "cell_type": "markdown",
   "id": "79112fb7",
   "metadata": {},
   "source": [
    "So, from this we can say that the top 5 profiles are Data Scientist, Data Engineer, Senior Data Scientist, Machine Learning Engineer and Data Analyst"
   ]
  },
  {
   "cell_type": "markdown",
   "id": "a1830da1",
   "metadata": {},
   "source": [
    "# "
   ]
  },
  {
   "cell_type": "markdown",
   "id": "90b89d57",
   "metadata": {},
   "source": [
    "# Data Cleaning"
   ]
  },
  {
   "cell_type": "markdown",
   "id": "9a5b4da3",
   "metadata": {},
   "source": [
    "I've cleaned the dataset and manipulated some columns in the excel."
   ]
  },
  {
   "cell_type": "markdown",
   "id": "04993c38",
   "metadata": {},
   "source": [
    "Those were:\n",
    "- Calculated the Average salary.\n",
    "- Split the rating of the company from company column.\n",
    "- Removed the job description column.\n",
    "- Calculated the company age from the Founded column."
   ]
  },
  {
   "cell_type": "code",
   "execution_count": 8,
   "id": "ca0e4a61",
   "metadata": {},
   "outputs": [
    {
     "data": {
      "text/plain": [
       "index                 0\n",
       "Job Title             0\n",
       "Salalry_min           0\n",
       "Salalry_max           0\n",
       "Avg_salary            0\n",
       "Rating                0\n",
       "Company Name          0\n",
       "Location              0\n",
       "State                10\n",
       "Size                  0\n",
       "Founded               0\n",
       "Company_age           0\n",
       "Type of ownership     0\n",
       "Industry              0\n",
       "Sector                0\n",
       "Revenue               0\n",
       "dtype: int64"
      ]
     },
     "execution_count": 8,
     "metadata": {},
     "output_type": "execute_result"
    }
   ],
   "source": [
    "df.isnull().sum()"
   ]
  },
  {
   "cell_type": "code",
   "execution_count": 12,
   "id": "643cda0f",
   "metadata": {},
   "outputs": [
    {
     "data": {
      "text/plain": [
       "(554, 16)"
      ]
     },
     "execution_count": 12,
     "metadata": {},
     "output_type": "execute_result"
    }
   ],
   "source": [
    "df.shape"
   ]
  },
  {
   "cell_type": "code",
   "execution_count": 13,
   "id": "2eca279e",
   "metadata": {},
   "outputs": [],
   "source": [
    "df = df.dropna()"
   ]
  },
  {
   "cell_type": "code",
   "execution_count": 14,
   "id": "b2e339bf",
   "metadata": {},
   "outputs": [
    {
     "data": {
      "text/plain": [
       "(544, 16)"
      ]
     },
     "execution_count": 14,
     "metadata": {},
     "output_type": "execute_result"
    }
   ],
   "source": [
    "df.shape"
   ]
  },
  {
   "cell_type": "code",
   "execution_count": null,
   "id": "44383b44",
   "metadata": {},
   "outputs": [],
   "source": []
  }
 ],
 "metadata": {
  "kernelspec": {
   "display_name": "Python 3 (ipykernel)",
   "language": "python",
   "name": "python3"
  },
  "language_info": {
   "codemirror_mode": {
    "name": "ipython",
    "version": 3
   },
   "file_extension": ".py",
   "mimetype": "text/x-python",
   "name": "python",
   "nbconvert_exporter": "python",
   "pygments_lexer": "ipython3",
   "version": "3.9.12"
  }
 },
 "nbformat": 4,
 "nbformat_minor": 5
}
